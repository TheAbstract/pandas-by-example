{
 "cells": [
  {
   "cell_type": "markdown",
   "id": "3740b22a-eadc-4ebe-b1dd-dd0c2b029d53",
   "metadata": {},
   "source": [
    "# Data Input and Output\n",
    "\n",
    "The pandas library has powerful capabilities for handling data from common formats such as CSV, Excel spreadsheets, SQL databases, and many others.\n",
    "\n",
    "## Reading from common formats\n",
    "\n",
    "### Reading CSV Files\n",
    "\n",
    "Pandas provides a simple and efficient way to read data from CSV files using the `read_csv` function. Let's consider an example showing how to read a CSV file into a DataFrame:\n",
    "\n",
    "```python\n",
    "import pandas as pd\n",
    "\n",
    "\n",
    "df = pd.read_csv('data.csv')\n",
    "```"
   ]
  },
  {
   "cell_type": "markdown",
   "id": "7eac1050-6ea6-42c4-80cd-6aa91f9628e6",
   "metadata": {},
   "source": [
    "### Reading Excel Files\n",
    "\n",
    "In addition to CSV files, Pandas also supports reading data from Excel files using the `read_excel` function. Here's an example on reading an Excel file into a DataFrame:\n",
    "\n",
    "```python\n",
    "df = pd.read_excel('data.xlsx', sheet_name='Sheet1')\n",
    "```"
   ]
  },
  {
   "cell_type": "markdown",
   "id": "9cf16cc6-0983-4c5c-a383-2e39b663ca83",
   "metadata": {},
   "source": [
    "### Reading Data from SQL Database\n",
    "\n",
    "Pandas allows you to easily retrieve data from SQL databases by using the `read_sql` function. Here's a sample code snippet demonstrating how to read data from a SQL database into a DataFrame:\n",
    "\n",
    "```python\n",
    "import sqlite3\n",
    "\n",
    "# Create a connection to the SQLite database\n",
    "conn = sqlite3.connect('example.db')\n",
    "\n",
    "# Read data from the database into a DataFrame\n",
    "query = \"SELECT * FROM table_name\"\n",
    "df = pd.read_sql(query, conn)\n",
    "```"
   ]
  },
  {
   "cell_type": "markdown",
   "id": "aa47c485-efaf-42b3-80a1-36340df4b8c0",
   "metadata": {},
   "source": [
    "## Writing to common formats\n",
    "\n",
    "### Writing Data to CSV Files\n",
    "\n",
    "Pandas enables effortless writing of data to CSV files using the `to_csv` function. Let's see how to write a DataFrame to a CSV file:\n",
    "\n",
    "```python\n",
    "df.to_csv('output.csv', index=False)\n",
    "```\n",
    "\n",
    "### Writing Data to Excel Files\n",
    "\n",
    "Similar to reading from Excel files, Pandas provides the `to_excel` function for writing data to Excel spreadsheets:\n",
    "\n",
    "```python\n",
    "df.to_excel('output.xlsx', sheet_name='Sheet1', index=False)\n",
    "```\n",
    "\n",
    "### Writing Data to SQL Database\n",
    "\n",
    "Pandas facilitates writing data to SQL databases through the `to_sql` function. Here's an example of how to save a DataFrame to a SQL database table:\n",
    "\n",
    "```python\n",
    "conn = sqlite3.connect('example.db')\n",
    "\n",
    "# Write the DataFrame to a new table in the database\n",
    "df.to_sql('new_table', conn, if_exists='replace', index=False)\n",
    "```"
   ]
  },
  {
   "cell_type": "markdown",
   "id": "587664b9-8684-408b-8798-c6c755128ac1",
   "metadata": {},
   "source": [
    "These examples showcase the simplicity and flexibility of pandas when it comes to reading and writing data from and to various sources, empowering you to easily manage data with different formats."
   ]
  }
 ],
 "metadata": {
  "kernelspec": {
   "display_name": "Python 3 (ipykernel)",
   "language": "python",
   "name": "python3"
  },
  "language_info": {
   "codemirror_mode": {
    "name": "ipython",
    "version": 3
   },
   "file_extension": ".py",
   "mimetype": "text/x-python",
   "name": "python",
   "nbconvert_exporter": "python",
   "pygments_lexer": "ipython3",
   "version": "3.10.13"
  }
 },
 "nbformat": 4,
 "nbformat_minor": 5
}
