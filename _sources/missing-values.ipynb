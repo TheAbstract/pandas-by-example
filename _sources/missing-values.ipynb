{
 "cells": [
  {
   "cell_type": "markdown",
   "id": "9b60adbc-3620-43cc-8279-97bf976eeece",
   "metadata": {},
   "source": [
    "# Missing Values\n",
    "\n",
    "Dealing with missing data is a common challenge when working with real-world data. Lets explore the various methods provided by pandas for identifying and handling missing values within datasets.\n",
    "\n",
    "**Sample data**:"
   ]
  },
  {
   "cell_type": "code",
   "execution_count": 1,
   "id": "6be33edb-addf-4878-9297-d3efd931c708",
   "metadata": {},
   "outputs": [],
   "source": [
    "import pandas as pd"
   ]
  },
  {
   "cell_type": "code",
   "execution_count": 2,
   "id": "32defc53-9ecb-46af-b155-af2caebea451",
   "metadata": {},
   "outputs": [
    {
     "data": {
      "text/html": [
       "<div>\n",
       "<style scoped>\n",
       "    .dataframe tbody tr th:only-of-type {\n",
       "        vertical-align: middle;\n",
       "    }\n",
       "\n",
       "    .dataframe tbody tr th {\n",
       "        vertical-align: top;\n",
       "    }\n",
       "\n",
       "    .dataframe thead th {\n",
       "        text-align: right;\n",
       "    }\n",
       "</style>\n",
       "<table border=\"1\" class=\"dataframe\">\n",
       "  <thead>\n",
       "    <tr style=\"text-align: right;\">\n",
       "      <th></th>\n",
       "      <th>employee_id</th>\n",
       "      <th>name</th>\n",
       "      <th>department</th>\n",
       "      <th>salary</th>\n",
       "    </tr>\n",
       "  </thead>\n",
       "  <tbody>\n",
       "    <tr>\n",
       "      <th>0</th>\n",
       "      <td>2.0</td>\n",
       "      <td>Sal</td>\n",
       "      <td>Sales</td>\n",
       "      <td>60000</td>\n",
       "    </tr>\n",
       "    <tr>\n",
       "      <th>1</th>\n",
       "      <td>3.0</td>\n",
       "      <td>Yang</td>\n",
       "      <td>Marketing</td>\n",
       "      <td>75000</td>\n",
       "    </tr>\n",
       "    <tr>\n",
       "      <th>2</th>\n",
       "      <td>4.0</td>\n",
       "      <td>Khaya</td>\n",
       "      <td>Engineering</td>\n",
       "      <td>80000</td>\n",
       "    </tr>\n",
       "    <tr>\n",
       "      <th>3</th>\n",
       "      <td>7.0</td>\n",
       "      <td>Lin</td>\n",
       "      <td>Sales</td>\n",
       "      <td>62000</td>\n",
       "    </tr>\n",
       "    <tr>\n",
       "      <th>4</th>\n",
       "      <td>8.0</td>\n",
       "      <td>Eve</td>\n",
       "      <td>Engineering</td>\n",
       "      <td>90000</td>\n",
       "    </tr>\n",
       "    <tr>\n",
       "      <th>5</th>\n",
       "      <td>NaN</td>\n",
       "      <td>Mike</td>\n",
       "      <td>None</td>\n",
       "      <td>70000</td>\n",
       "    </tr>\n",
       "  </tbody>\n",
       "</table>\n",
       "</div>"
      ],
      "text/plain": [
       "   employee_id   name   department  salary\n",
       "0          2.0    Sal        Sales   60000\n",
       "1          3.0   Yang    Marketing   75000\n",
       "2          4.0  Khaya  Engineering   80000\n",
       "3          7.0    Lin        Sales   62000\n",
       "4          8.0    Eve  Engineering   90000\n",
       "5          NaN   Mike         None   70000"
      ]
     },
     "execution_count": 2,
     "metadata": {},
     "output_type": "execute_result"
    }
   ],
   "source": [
    "data = {\n",
    "    'employee_id': [2, 3, 4, 7, 8, float('nan')],\n",
    "    'name': ['Sal', 'Yang', 'Khaya', 'Lin', 'Eve', 'Mike'],\n",
    "    'department': ['Sales', 'Marketing', 'Engineering', 'Sales', 'Engineering', None],\n",
    "    'salary': [60000, 75000, 80000, 62000, 90000, 70000]\n",
    "}\n",
    "\n",
    "employees = pd.DataFrame(data)\n",
    "employees"
   ]
  },
  {
   "cell_type": "markdown",
   "id": "fdfb5dc3-a0b5-48a1-874a-f8af9d9f09b3",
   "metadata": {},
   "source": [
    "## Identifying missing values\n",
    "\n",
    "The `isna` method will return `True` for any missing entries in a dataset when indicated in a standard way. \n",
    "\n",
    "Note that both id and department entries are identified is missing entries."
   ]
  },
  {
   "cell_type": "code",
   "execution_count": 3,
   "id": "8fed7d0b-51c6-4c0e-80fa-96fdda455ace",
   "metadata": {},
   "outputs": [
    {
     "data": {
      "text/html": [
       "<div>\n",
       "<style scoped>\n",
       "    .dataframe tbody tr th:only-of-type {\n",
       "        vertical-align: middle;\n",
       "    }\n",
       "\n",
       "    .dataframe tbody tr th {\n",
       "        vertical-align: top;\n",
       "    }\n",
       "\n",
       "    .dataframe thead th {\n",
       "        text-align: right;\n",
       "    }\n",
       "</style>\n",
       "<table border=\"1\" class=\"dataframe\">\n",
       "  <thead>\n",
       "    <tr style=\"text-align: right;\">\n",
       "      <th></th>\n",
       "      <th>employee_id</th>\n",
       "      <th>name</th>\n",
       "      <th>department</th>\n",
       "      <th>salary</th>\n",
       "    </tr>\n",
       "  </thead>\n",
       "  <tbody>\n",
       "    <tr>\n",
       "      <th>0</th>\n",
       "      <td>False</td>\n",
       "      <td>False</td>\n",
       "      <td>False</td>\n",
       "      <td>False</td>\n",
       "    </tr>\n",
       "    <tr>\n",
       "      <th>1</th>\n",
       "      <td>False</td>\n",
       "      <td>False</td>\n",
       "      <td>False</td>\n",
       "      <td>False</td>\n",
       "    </tr>\n",
       "    <tr>\n",
       "      <th>2</th>\n",
       "      <td>False</td>\n",
       "      <td>False</td>\n",
       "      <td>False</td>\n",
       "      <td>False</td>\n",
       "    </tr>\n",
       "    <tr>\n",
       "      <th>3</th>\n",
       "      <td>False</td>\n",
       "      <td>False</td>\n",
       "      <td>False</td>\n",
       "      <td>False</td>\n",
       "    </tr>\n",
       "    <tr>\n",
       "      <th>4</th>\n",
       "      <td>False</td>\n",
       "      <td>False</td>\n",
       "      <td>False</td>\n",
       "      <td>False</td>\n",
       "    </tr>\n",
       "    <tr>\n",
       "      <th>5</th>\n",
       "      <td>True</td>\n",
       "      <td>False</td>\n",
       "      <td>True</td>\n",
       "      <td>False</td>\n",
       "    </tr>\n",
       "  </tbody>\n",
       "</table>\n",
       "</div>"
      ],
      "text/plain": [
       "   employee_id   name  department  salary\n",
       "0        False  False       False   False\n",
       "1        False  False       False   False\n",
       "2        False  False       False   False\n",
       "3        False  False       False   False\n",
       "4        False  False       False   False\n",
       "5         True  False        True   False"
      ]
     },
     "execution_count": 3,
     "metadata": {},
     "output_type": "execute_result"
    }
   ],
   "source": [
    "employees.isna()"
   ]
  },
  {
   "cell_type": "markdown",
   "id": "fc9f3e58-e3ce-4e7e-aaea-b90d31a56efe",
   "metadata": {},
   "source": [
    "To see the number of missing entries in each column we can sum the result of `isna`."
   ]
  },
  {
   "cell_type": "code",
   "execution_count": 4,
   "id": "9015fe20-5fdc-45fe-aa8d-38d832c3b599",
   "metadata": {},
   "outputs": [
    {
     "data": {
      "text/plain": [
       "employee_id    1\n",
       "name           0\n",
       "department     1\n",
       "salary         0\n",
       "dtype: int64"
      ]
     },
     "execution_count": 4,
     "metadata": {},
     "output_type": "execute_result"
    }
   ],
   "source": [
    "employees.isna().sum()"
   ]
  },
  {
   "cell_type": "markdown",
   "id": "207c8727-9a0c-4b7e-9d68-19c4ba2fef9f",
   "metadata": {},
   "source": [
    "## Handling missing data by dropping values\n",
    "\n",
    "Drop rows with any missing values"
   ]
  },
  {
   "cell_type": "code",
   "execution_count": 5,
   "id": "a800537b-f0e5-4ff4-bec8-5b3c26990580",
   "metadata": {},
   "outputs": [
    {
     "data": {
      "text/html": [
       "<div>\n",
       "<style scoped>\n",
       "    .dataframe tbody tr th:only-of-type {\n",
       "        vertical-align: middle;\n",
       "    }\n",
       "\n",
       "    .dataframe tbody tr th {\n",
       "        vertical-align: top;\n",
       "    }\n",
       "\n",
       "    .dataframe thead th {\n",
       "        text-align: right;\n",
       "    }\n",
       "</style>\n",
       "<table border=\"1\" class=\"dataframe\">\n",
       "  <thead>\n",
       "    <tr style=\"text-align: right;\">\n",
       "      <th></th>\n",
       "      <th>employee_id</th>\n",
       "      <th>name</th>\n",
       "      <th>department</th>\n",
       "      <th>salary</th>\n",
       "    </tr>\n",
       "  </thead>\n",
       "  <tbody>\n",
       "    <tr>\n",
       "      <th>0</th>\n",
       "      <td>2.0</td>\n",
       "      <td>Sal</td>\n",
       "      <td>Sales</td>\n",
       "      <td>60000</td>\n",
       "    </tr>\n",
       "    <tr>\n",
       "      <th>1</th>\n",
       "      <td>3.0</td>\n",
       "      <td>Yang</td>\n",
       "      <td>Marketing</td>\n",
       "      <td>75000</td>\n",
       "    </tr>\n",
       "    <tr>\n",
       "      <th>2</th>\n",
       "      <td>4.0</td>\n",
       "      <td>Khaya</td>\n",
       "      <td>Engineering</td>\n",
       "      <td>80000</td>\n",
       "    </tr>\n",
       "    <tr>\n",
       "      <th>3</th>\n",
       "      <td>7.0</td>\n",
       "      <td>Lin</td>\n",
       "      <td>Sales</td>\n",
       "      <td>62000</td>\n",
       "    </tr>\n",
       "    <tr>\n",
       "      <th>4</th>\n",
       "      <td>8.0</td>\n",
       "      <td>Eve</td>\n",
       "      <td>Engineering</td>\n",
       "      <td>90000</td>\n",
       "    </tr>\n",
       "  </tbody>\n",
       "</table>\n",
       "</div>"
      ],
      "text/plain": [
       "   employee_id   name   department  salary\n",
       "0          2.0    Sal        Sales   60000\n",
       "1          3.0   Yang    Marketing   75000\n",
       "2          4.0  Khaya  Engineering   80000\n",
       "3          7.0    Lin        Sales   62000\n",
       "4          8.0    Eve  Engineering   90000"
      ]
     },
     "execution_count": 5,
     "metadata": {},
     "output_type": "execute_result"
    }
   ],
   "source": [
    "employees.dropna()"
   ]
  },
  {
   "cell_type": "markdown",
   "id": "aa22c36c-8bea-491f-af38-dd1a6aab8fee",
   "metadata": {},
   "source": [
    "We can also drop observations based on more specific conditions.\n",
    "\n",
    "Drop rows where all cells in that row is NA:\n",
    "```python\n",
    "df.dropna(how='all')\n",
    "```\n",
    "\n",
    "Drop column if they only contain missing values:\n",
    "```python\n",
    "df.dropna(axis=1, how='all')\n",
    "```"
   ]
  },
  {
   "cell_type": "markdown",
   "id": "b65347ac-65c4-4a1f-961e-93a17eeb3f2a",
   "metadata": {},
   "source": [
    "## Handling missing data by filling values\n",
    "\n",
    "We can also fill in missing values with appropriate substitutes. For example when creating models we need all entries to have some value."
   ]
  },
  {
   "cell_type": "markdown",
   "id": "8db834ce-cb78-4ab2-9ae8-92ca4d5e6fcd",
   "metadata": {},
   "source": [
    "Fill in missing data with zeros:"
   ]
  },
  {
   "cell_type": "code",
   "execution_count": 6,
   "id": "942b83ff-3797-42aa-8695-90c332631dea",
   "metadata": {},
   "outputs": [
    {
     "data": {
      "text/html": [
       "<div>\n",
       "<style scoped>\n",
       "    .dataframe tbody tr th:only-of-type {\n",
       "        vertical-align: middle;\n",
       "    }\n",
       "\n",
       "    .dataframe tbody tr th {\n",
       "        vertical-align: top;\n",
       "    }\n",
       "\n",
       "    .dataframe thead th {\n",
       "        text-align: right;\n",
       "    }\n",
       "</style>\n",
       "<table border=\"1\" class=\"dataframe\">\n",
       "  <thead>\n",
       "    <tr style=\"text-align: right;\">\n",
       "      <th></th>\n",
       "      <th>employee_id</th>\n",
       "      <th>name</th>\n",
       "      <th>department</th>\n",
       "      <th>salary</th>\n",
       "    </tr>\n",
       "  </thead>\n",
       "  <tbody>\n",
       "    <tr>\n",
       "      <th>0</th>\n",
       "      <td>2.0</td>\n",
       "      <td>Sal</td>\n",
       "      <td>Sales</td>\n",
       "      <td>60000</td>\n",
       "    </tr>\n",
       "    <tr>\n",
       "      <th>1</th>\n",
       "      <td>3.0</td>\n",
       "      <td>Yang</td>\n",
       "      <td>Marketing</td>\n",
       "      <td>75000</td>\n",
       "    </tr>\n",
       "    <tr>\n",
       "      <th>2</th>\n",
       "      <td>4.0</td>\n",
       "      <td>Khaya</td>\n",
       "      <td>Engineering</td>\n",
       "      <td>80000</td>\n",
       "    </tr>\n",
       "    <tr>\n",
       "      <th>3</th>\n",
       "      <td>7.0</td>\n",
       "      <td>Lin</td>\n",
       "      <td>Sales</td>\n",
       "      <td>62000</td>\n",
       "    </tr>\n",
       "    <tr>\n",
       "      <th>4</th>\n",
       "      <td>8.0</td>\n",
       "      <td>Eve</td>\n",
       "      <td>Engineering</td>\n",
       "      <td>90000</td>\n",
       "    </tr>\n",
       "    <tr>\n",
       "      <th>5</th>\n",
       "      <td>0.0</td>\n",
       "      <td>Mike</td>\n",
       "      <td>0</td>\n",
       "      <td>70000</td>\n",
       "    </tr>\n",
       "  </tbody>\n",
       "</table>\n",
       "</div>"
      ],
      "text/plain": [
       "   employee_id   name   department  salary\n",
       "0          2.0    Sal        Sales   60000\n",
       "1          3.0   Yang    Marketing   75000\n",
       "2          4.0  Khaya  Engineering   80000\n",
       "3          7.0    Lin        Sales   62000\n",
       "4          8.0    Eve  Engineering   90000\n",
       "5          0.0   Mike            0   70000"
      ]
     },
     "execution_count": 6,
     "metadata": {},
     "output_type": "execute_result"
    }
   ],
   "source": [
    "employees.fillna(0)"
   ]
  },
  {
   "cell_type": "markdown",
   "id": "c3c0b25e-676e-4639-9a77-d2850a22fd47",
   "metadata": {},
   "source": [
    "Fill in missing value with mean of that column. \n",
    "Say we had missing values for salary, we could use the mean of the values we have for the fill value."
   ]
  },
  {
   "cell_type": "markdown",
   "id": "f99e79f8-7f58-476f-ba88-d131efc45597",
   "metadata": {},
   "source": [
    "```python\n",
    "mean_salary = employees.salary.mean()\n",
    "employees.fillna(mean_salary)\n",
    "```"
   ]
  }
 ],
 "metadata": {
  "kernelspec": {
   "display_name": "Python 3 (ipykernel)",
   "language": "python",
   "name": "python3"
  },
  "language_info": {
   "codemirror_mode": {
    "name": "ipython",
    "version": 3
   },
   "file_extension": ".py",
   "mimetype": "text/x-python",
   "name": "python",
   "nbconvert_exporter": "python",
   "pygments_lexer": "ipython3",
   "version": "3.10.13"
  }
 },
 "nbformat": 4,
 "nbformat_minor": 5
}
