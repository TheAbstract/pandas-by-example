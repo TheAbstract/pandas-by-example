{
 "cells": [
  {
   "cell_type": "markdown",
   "id": "a8a17f60-f4ab-4f17-8735-26360d4135c8",
   "metadata": {},
   "source": [
    "# Grouping and Aggregation\n",
    "\n",
    "Grouping and aggregation are fundamental techniques that enable data analysts to efficiently summarise and derive insights from complex datasets based on specified attributes.\n",
    "\n",
    "Here we cover essential operations such as grouping data based on specific criteria, calculating summary statistics within each group, and applying various aggregation functions to derive meaningful insights from the dataset.\n",
    "\n",
    "**Sample data**:"
   ]
  },
  {
   "cell_type": "code",
   "execution_count": 1,
   "id": "c69e00b5-5c1b-4db0-90f5-c7a61d29bb9a",
   "metadata": {},
   "outputs": [],
   "source": [
    "import pandas as pd"
   ]
  },
  {
   "cell_type": "code",
   "execution_count": 2,
   "id": "95179911-45bf-47be-bdcb-48fb0e65aabe",
   "metadata": {},
   "outputs": [],
   "source": [
    "data = {\n",
    "    'employee_id': [2, 3, 4, 7, 8, 9],\n",
    "    'name': ['Sal', 'Yang', 'Khaya', 'Lin', 'Eve', 'Mike'],\n",
    "    'department': ['Sales', 'Marketing', 'Engineering', 'Sales', 'Engineering', 'Sales'],\n",
    "    'salary': [60000, 75000, 80000, 62000, 90000, 70000]\n",
    "}\n",
    "df = pd.DataFrame(data)"
   ]
  },
  {
   "cell_type": "markdown",
   "id": "1f2fcb2e-322c-45a4-bb2a-13a544b431c7",
   "metadata": {},
   "source": [
    "## Group by a column\n",
    "\n",
    "This example demonstrates how to group the data by the `department` column and then display the groups."
   ]
  },
  {
   "cell_type": "code",
   "execution_count": 3,
   "id": "c5258e71-f8ba-4509-97a9-84f4cdb38be1",
   "metadata": {},
   "outputs": [
    {
     "name": "stdout",
     "output_type": "stream",
     "text": [
      "Engineering\n",
      "   employee_id   name   department  salary\n",
      "2            4  Khaya  Engineering   80000\n",
      "4            8    Eve  Engineering   90000\n",
      "Marketing\n",
      "   employee_id  name department  salary\n",
      "1            3  Yang  Marketing   75000\n",
      "Sales\n",
      "   employee_id  name department  salary\n",
      "0            2   Sal      Sales   60000\n",
      "3            7   Lin      Sales   62000\n",
      "5            9  Mike      Sales   70000\n"
     ]
    }
   ],
   "source": [
    "grouped = df.groupby('department')\n",
    "\n",
    "# Display the grouped data\n",
    "for name, group in grouped:\n",
    "    print(name)\n",
    "    print(group)"
   ]
  },
  {
   "cell_type": "markdown",
   "id": "f34556ce-f77d-4067-929f-1e90784a2976",
   "metadata": {},
   "source": [
    "## Calculation based on groups\n",
    "\n",
    "Calculating the mean salary for each department:"
   ]
  },
  {
   "cell_type": "code",
   "execution_count": 4,
   "id": "66b4ff66-5d31-4ce9-931a-08a8315a2b7a",
   "metadata": {},
   "outputs": [
    {
     "data": {
      "text/plain": [
       "department\n",
       "Engineering    85000.0\n",
       "Marketing      75000.0\n",
       "Sales          64000.0\n",
       "Name: salary, dtype: float64"
      ]
     },
     "execution_count": 4,
     "metadata": {},
     "output_type": "execute_result"
    }
   ],
   "source": [
    "mean_salary = df.groupby('department')['salary'].mean()\n",
    "mean_salary"
   ]
  },
  {
   "cell_type": "markdown",
   "id": "ee4a44cb-e170-4f6b-89a2-38b215bcc7bc",
   "metadata": {},
   "source": [
    "Counting the number of employees in each department:"
   ]
  },
  {
   "cell_type": "code",
   "execution_count": 5,
   "id": "47679fd9-90f8-4c2c-834f-9a99bf725ed7",
   "metadata": {},
   "outputs": [
    {
     "data": {
      "text/plain": [
       "department\n",
       "Engineering    2\n",
       "Marketing      1\n",
       "Sales          3\n",
       "dtype: int64"
      ]
     },
     "execution_count": 5,
     "metadata": {},
     "output_type": "execute_result"
    }
   ],
   "source": [
    "employee_count = df.groupby('department').size()\n",
    "employee_count"
   ]
  },
  {
   "cell_type": "markdown",
   "id": "7269cf7d-8b42-43f7-829c-2024140b0f6b",
   "metadata": {},
   "source": [
    "_Note that this could have also been done with the value counts method_."
   ]
  },
  {
   "cell_type": "code",
   "execution_count": 6,
   "id": "b0ec26b6-88cc-4d33-8c78-2fd2f5653db4",
   "metadata": {},
   "outputs": [
    {
     "data": {
      "text/plain": [
       "department\n",
       "Sales          3\n",
       "Engineering    2\n",
       "Marketing      1\n",
       "Name: count, dtype: int64"
      ]
     },
     "execution_count": 6,
     "metadata": {},
     "output_type": "execute_result"
    }
   ],
   "source": [
    "df['department'].value_counts()"
   ]
  },
  {
   "cell_type": "markdown",
   "id": "7819dcd4-3c70-49e6-a12f-1e85dc07694a",
   "metadata": {},
   "source": [
    "Finding the highest salary in each department:"
   ]
  },
  {
   "cell_type": "code",
   "execution_count": 7,
   "id": "e0745cce-da7a-42a9-babc-e3768bde1297",
   "metadata": {},
   "outputs": [
    {
     "data": {
      "text/plain": [
       "department\n",
       "Engineering    90000\n",
       "Marketing      75000\n",
       "Sales          70000\n",
       "Name: salary, dtype: int64"
      ]
     },
     "execution_count": 7,
     "metadata": {},
     "output_type": "execute_result"
    }
   ],
   "source": [
    "max_salary = df.groupby('department')['salary'].max()\n",
    "max_salary"
   ]
  },
  {
   "cell_type": "markdown",
   "id": "89c5aaa1-f33c-4a28-9f60-6735491ec490",
   "metadata": {},
   "source": [
    "## Applying multiple aggregation functions at once\n",
    "\n",
    "Sometimes we want to calculate multiple metrics for each grouping. \n",
    "\n",
    "Here we calculate the mean, minimum, and maximum salary for each department. The resulting DataFrame shows these aggregated values for each department, providing a concise summary of the salary statistics within each group."
   ]
  },
  {
   "cell_type": "code",
   "execution_count": 8,
   "id": "c8b992d9-bd3f-436f-acec-d9beede53eb4",
   "metadata": {},
   "outputs": [
    {
     "data": {
      "text/html": [
       "<div>\n",
       "<style scoped>\n",
       "    .dataframe tbody tr th:only-of-type {\n",
       "        vertical-align: middle;\n",
       "    }\n",
       "\n",
       "    .dataframe tbody tr th {\n",
       "        vertical-align: top;\n",
       "    }\n",
       "\n",
       "    .dataframe thead tr th {\n",
       "        text-align: left;\n",
       "    }\n",
       "\n",
       "    .dataframe thead tr:last-of-type th {\n",
       "        text-align: right;\n",
       "    }\n",
       "</style>\n",
       "<table border=\"1\" class=\"dataframe\">\n",
       "  <thead>\n",
       "    <tr>\n",
       "      <th></th>\n",
       "      <th colspan=\"3\" halign=\"left\">salary</th>\n",
       "    </tr>\n",
       "    <tr>\n",
       "      <th></th>\n",
       "      <th>mean</th>\n",
       "      <th>min</th>\n",
       "      <th>max</th>\n",
       "    </tr>\n",
       "    <tr>\n",
       "      <th>department</th>\n",
       "      <th></th>\n",
       "      <th></th>\n",
       "      <th></th>\n",
       "    </tr>\n",
       "  </thead>\n",
       "  <tbody>\n",
       "    <tr>\n",
       "      <th>Engineering</th>\n",
       "      <td>85000.0</td>\n",
       "      <td>80000</td>\n",
       "      <td>90000</td>\n",
       "    </tr>\n",
       "    <tr>\n",
       "      <th>Marketing</th>\n",
       "      <td>75000.0</td>\n",
       "      <td>75000</td>\n",
       "      <td>75000</td>\n",
       "    </tr>\n",
       "    <tr>\n",
       "      <th>Sales</th>\n",
       "      <td>64000.0</td>\n",
       "      <td>60000</td>\n",
       "      <td>70000</td>\n",
       "    </tr>\n",
       "  </tbody>\n",
       "</table>\n",
       "</div>"
      ],
      "text/plain": [
       "              salary              \n",
       "                mean    min    max\n",
       "department                        \n",
       "Engineering  85000.0  80000  90000\n",
       "Marketing    75000.0  75000  75000\n",
       "Sales        64000.0  60000  70000"
      ]
     },
     "execution_count": 8,
     "metadata": {},
     "output_type": "execute_result"
    }
   ],
   "source": [
    "agg_result = df.groupby('department').agg({'salary': ['mean', 'min', 'max']})\n",
    "agg_result"
   ]
  }
 ],
 "metadata": {
  "kernelspec": {
   "display_name": "Python 3 (ipykernel)",
   "language": "python",
   "name": "python3"
  },
  "language_info": {
   "codemirror_mode": {
    "name": "ipython",
    "version": 3
   },
   "file_extension": ".py",
   "mimetype": "text/x-python",
   "name": "python",
   "nbconvert_exporter": "python",
   "pygments_lexer": "ipython3",
   "version": "3.10.13"
  }
 },
 "nbformat": 4,
 "nbformat_minor": 5
}
