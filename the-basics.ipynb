{
 "cells": [
  {
   "cell_type": "markdown",
   "id": "0b7674a3-0a03-4a18-89fb-af194c55fd03",
   "metadata": {},
   "source": [
    "# Getting Started with Pandas\n",
    "\n",
    "## Importing pandas\n",
    "\n",
    "In order to leverage the capabilities of pandas for data manipulation and analysis, the first step is to import the library into your Python environment.\n",
    "\n",
    "To import the pandas library, simply use the following code:"
   ]
  },
  {
   "cell_type": "code",
   "execution_count": 1,
   "id": "89b9b552-8529-4a34-894e-f5b71643c5d7",
   "metadata": {},
   "outputs": [],
   "source": [
    "import pandas as pd"
   ]
  },
  {
   "cell_type": "markdown",
   "id": "ead2a238-3700-482c-9d79-002c9c6826b3",
   "metadata": {},
   "source": [
    "By convention we use the `pd` alias, which allows for simpler access to pandas methods."
   ]
  },
  {
   "cell_type": "markdown",
   "id": "ffa34f24-72da-4c0a-b8c3-9e02f55c5dba",
   "metadata": {
    "jp-MarkdownHeadingCollapsed": true
   },
   "source": [
    "## Creating Series and DataFrames\n",
    "\n",
    "Pandas provides two fundamental data structures: Series and DataFrames. \n",
    "Understanding these is crucial for effectively working with data using the pandas library."
   ]
  },
  {
   "cell_type": "markdown",
   "id": "8af06afb-0f1a-4f49-94cf-b8ab05216ec8",
   "metadata": {},
   "source": [
    "## An introduction to Series\n",
    "\n",
    "Pandas Series are one-dimensional labeled arrays capable of holding any data type."
   ]
  },
  {
   "cell_type": "code",
   "execution_count": 2,
   "id": "f135b66b-e943-46b4-b1e9-0df189f89c41",
   "metadata": {},
   "outputs": [
    {
     "data": {
      "text/plain": [
       "Product A    15\n",
       "Product B    10\n",
       "Product C    23\n",
       "Product A     8\n",
       "Product C    12\n",
       "dtype: int64"
      ]
     },
     "execution_count": 2,
     "metadata": {},
     "output_type": "execute_result"
    }
   ],
   "source": [
    "# A sample Series for product sales quantities\n",
    "data = [15, 10, 23, 8, 12]\n",
    "index = ['Product A', 'Product B', 'Product C', 'Product A', 'Product C']\n",
    "sales = pd.Series(data, index=index)\n",
    "sales"
   ]
  },
  {
   "cell_type": "markdown",
   "id": "55294b1d-1b80-4ccf-babe-afd2048ecf81",
   "metadata": {},
   "source": [
    "### Accessing elements in a Series\n",
    "\n",
    "Access the quantity of `Product A` sold:"
   ]
  },
  {
   "cell_type": "code",
   "execution_count": 3,
   "id": "e12848d6-3ce5-47dc-b31a-c5077794bd46",
   "metadata": {},
   "outputs": [
    {
     "data": {
      "text/plain": [
       "Product A    15\n",
       "Product A     8\n",
       "dtype: int64"
      ]
     },
     "execution_count": 3,
     "metadata": {},
     "output_type": "execute_result"
    }
   ],
   "source": [
    "sales['Product A']"
   ]
  },
  {
   "cell_type": "markdown",
   "id": "df7a1422-2c0a-4a1f-81df-28b4059b13b6",
   "metadata": {},
   "source": [
    "### Add a new product"
   ]
  },
  {
   "cell_type": "code",
   "execution_count": 4,
   "id": "6c43d882-4441-405b-8239-14a9f2dffb76",
   "metadata": {},
   "outputs": [
    {
     "data": {
      "text/plain": [
       "Product A    15.0\n",
       "Product B    10.0\n",
       "Product C    23.0\n",
       "Product A     8.0\n",
       "Product C    12.0\n",
       "Product D     NaN\n",
       "dtype: float64"
      ]
     },
     "execution_count": 4,
     "metadata": {},
     "output_type": "execute_result"
    }
   ],
   "source": [
    "sales['Product D'] = float('nan')\n",
    "sales"
   ]
  },
  {
   "cell_type": "markdown",
   "id": "0d5131f9-40f4-4322-b6db-07607261feba",
   "metadata": {},
   "source": [
    "### Basic operations\n",
    "\n",
    "Calculate the total quantity of all products sold:"
   ]
  },
  {
   "cell_type": "code",
   "execution_count": 5,
   "id": "dc4794a3-1074-4aa1-b8a4-1165e4bdc992",
   "metadata": {},
   "outputs": [
    {
     "data": {
      "text/plain": [
       "68.0"
      ]
     },
     "execution_count": 5,
     "metadata": {},
     "output_type": "execute_result"
    }
   ],
   "source": [
    "sales.sum()"
   ]
  },
  {
   "cell_type": "markdown",
   "id": "653ed6c7-5e9b-4cd0-8a88-376c8a9dba6a",
   "metadata": {},
   "source": [
    "Calculate the average quantity sold per product:"
   ]
  },
  {
   "cell_type": "code",
   "execution_count": 6,
   "id": "a6529b25-ed44-427a-9b3b-2bebf83ed913",
   "metadata": {},
   "outputs": [
    {
     "data": {
      "text/plain": [
       "13.6"
      ]
     },
     "execution_count": 6,
     "metadata": {},
     "output_type": "execute_result"
    }
   ],
   "source": [
    "sales.mean()"
   ]
  },
  {
   "cell_type": "markdown",
   "id": "7beedab6-77a7-4fb1-9bc8-1ac2438ffbd3",
   "metadata": {},
   "source": [
    "You can also perform element-wise operations, for example double all the quantities:"
   ]
  },
  {
   "cell_type": "code",
   "execution_count": 7,
   "id": "dc28e404-86b2-4680-9775-76b176ed5513",
   "metadata": {},
   "outputs": [
    {
     "data": {
      "text/plain": [
       "Product A    30.0\n",
       "Product B    20.0\n",
       "Product C    46.0\n",
       "Product A    16.0\n",
       "Product C    24.0\n",
       "Product D     NaN\n",
       "dtype: float64"
      ]
     },
     "execution_count": 7,
     "metadata": {},
     "output_type": "execute_result"
    }
   ],
   "source": [
    "sales * 2"
   ]
  },
  {
   "cell_type": "markdown",
   "id": "8f0a269d-127f-4b18-b58f-9bf87156ef70",
   "metadata": {},
   "source": [
    "## An introduction to DataFrames\n",
    "\n",
    "Pandas DataFrames are two-dimensional labeled data structures with columns of potentially different types."
   ]
  },
  {
   "cell_type": "code",
   "execution_count": 8,
   "id": "b480fbf7-7514-4092-b2ab-dad7cd83983b",
   "metadata": {},
   "outputs": [
    {
     "data": {
      "text/html": [
       "<div>\n",
       "<style scoped>\n",
       "    .dataframe tbody tr th:only-of-type {\n",
       "        vertical-align: middle;\n",
       "    }\n",
       "\n",
       "    .dataframe tbody tr th {\n",
       "        vertical-align: top;\n",
       "    }\n",
       "\n",
       "    .dataframe thead th {\n",
       "        text-align: right;\n",
       "    }\n",
       "</style>\n",
       "<table border=\"1\" class=\"dataframe\">\n",
       "  <thead>\n",
       "    <tr style=\"text-align: right;\">\n",
       "      <th></th>\n",
       "      <th>employee_id</th>\n",
       "      <th>name</th>\n",
       "      <th>department</th>\n",
       "      <th>salary</th>\n",
       "    </tr>\n",
       "  </thead>\n",
       "  <tbody>\n",
       "    <tr>\n",
       "      <th>0</th>\n",
       "      <td>2</td>\n",
       "      <td>Sal</td>\n",
       "      <td>Sales</td>\n",
       "      <td>60000</td>\n",
       "    </tr>\n",
       "    <tr>\n",
       "      <th>1</th>\n",
       "      <td>3</td>\n",
       "      <td>Yang</td>\n",
       "      <td>Marketing</td>\n",
       "      <td>75000</td>\n",
       "    </tr>\n",
       "    <tr>\n",
       "      <th>2</th>\n",
       "      <td>4</td>\n",
       "      <td>Khaya</td>\n",
       "      <td>Engineering</td>\n",
       "      <td>80000</td>\n",
       "    </tr>\n",
       "    <tr>\n",
       "      <th>3</th>\n",
       "      <td>7</td>\n",
       "      <td>Lin</td>\n",
       "      <td>Sales</td>\n",
       "      <td>62000</td>\n",
       "    </tr>\n",
       "    <tr>\n",
       "      <th>4</th>\n",
       "      <td>8</td>\n",
       "      <td>Eve</td>\n",
       "      <td>Engineering</td>\n",
       "      <td>90000</td>\n",
       "    </tr>\n",
       "    <tr>\n",
       "      <th>5</th>\n",
       "      <td>9</td>\n",
       "      <td>Mike</td>\n",
       "      <td>Sales</td>\n",
       "      <td>70000</td>\n",
       "    </tr>\n",
       "  </tbody>\n",
       "</table>\n",
       "</div>"
      ],
      "text/plain": [
       "   employee_id   name   department  salary\n",
       "0            2    Sal        Sales   60000\n",
       "1            3   Yang    Marketing   75000\n",
       "2            4  Khaya  Engineering   80000\n",
       "3            7    Lin        Sales   62000\n",
       "4            8    Eve  Engineering   90000\n",
       "5            9   Mike        Sales   70000"
      ]
     },
     "execution_count": 8,
     "metadata": {},
     "output_type": "execute_result"
    }
   ],
   "source": [
    "# A sample DataFrame of employee information\n",
    "data = {\n",
    "    'employee_id': [2, 3, 4, 7, 8, 9],\n",
    "    'name': ['Sal', 'Yang', 'Khaya', 'Lin', 'Eve', 'Mike'],\n",
    "    'department': ['Sales', 'Marketing', 'Engineering', 'Sales', 'Engineering', 'Sales'],\n",
    "    'salary': [60000, 75000, 80000, 62000, 90000, 70000]\n",
    "}\n",
    "employees = pd.DataFrame(data)\n",
    "employees"
   ]
  },
  {
   "cell_type": "markdown",
   "id": "e85f47a4-2b0b-460c-b8fe-aed040d262b2",
   "metadata": {},
   "source": [
    "### Viewing DataFrames\n",
    "\n",
    "You can use the `head()` and `tail()` methods to view the top and bottom rows of dataframes. \n",
    "By default five rows are shown but we can specify how many we want like this `df.head(10)`.\n",
    "\n",
    "We can also look at a random sample of the data like this:"
   ]
  },
  {
   "cell_type": "code",
   "execution_count": 9,
   "id": "efcbe682-a2db-42bb-819e-1d639144c763",
   "metadata": {},
   "outputs": [
    {
     "data": {
      "text/html": [
       "<div>\n",
       "<style scoped>\n",
       "    .dataframe tbody tr th:only-of-type {\n",
       "        vertical-align: middle;\n",
       "    }\n",
       "\n",
       "    .dataframe tbody tr th {\n",
       "        vertical-align: top;\n",
       "    }\n",
       "\n",
       "    .dataframe thead th {\n",
       "        text-align: right;\n",
       "    }\n",
       "</style>\n",
       "<table border=\"1\" class=\"dataframe\">\n",
       "  <thead>\n",
       "    <tr style=\"text-align: right;\">\n",
       "      <th></th>\n",
       "      <th>employee_id</th>\n",
       "      <th>name</th>\n",
       "      <th>department</th>\n",
       "      <th>salary</th>\n",
       "    </tr>\n",
       "  </thead>\n",
       "  <tbody>\n",
       "    <tr>\n",
       "      <th>2</th>\n",
       "      <td>4</td>\n",
       "      <td>Khaya</td>\n",
       "      <td>Engineering</td>\n",
       "      <td>80000</td>\n",
       "    </tr>\n",
       "  </tbody>\n",
       "</table>\n",
       "</div>"
      ],
      "text/plain": [
       "   employee_id   name   department  salary\n",
       "2            4  Khaya  Engineering   80000"
      ]
     },
     "execution_count": 9,
     "metadata": {},
     "output_type": "execute_result"
    }
   ],
   "source": [
    "employees.sample()"
   ]
  },
  {
   "cell_type": "markdown",
   "id": "fc50d7ad-9a4a-4df6-8872-02c1284cfd4b",
   "metadata": {},
   "source": [
    "Multiple samples:"
   ]
  },
  {
   "cell_type": "code",
   "execution_count": 10,
   "id": "70685c28-07ee-46da-9cc8-5e9f76f636ba",
   "metadata": {},
   "outputs": [
    {
     "data": {
      "text/html": [
       "<div>\n",
       "<style scoped>\n",
       "    .dataframe tbody tr th:only-of-type {\n",
       "        vertical-align: middle;\n",
       "    }\n",
       "\n",
       "    .dataframe tbody tr th {\n",
       "        vertical-align: top;\n",
       "    }\n",
       "\n",
       "    .dataframe thead th {\n",
       "        text-align: right;\n",
       "    }\n",
       "</style>\n",
       "<table border=\"1\" class=\"dataframe\">\n",
       "  <thead>\n",
       "    <tr style=\"text-align: right;\">\n",
       "      <th></th>\n",
       "      <th>employee_id</th>\n",
       "      <th>name</th>\n",
       "      <th>department</th>\n",
       "      <th>salary</th>\n",
       "    </tr>\n",
       "  </thead>\n",
       "  <tbody>\n",
       "    <tr>\n",
       "      <th>0</th>\n",
       "      <td>2</td>\n",
       "      <td>Sal</td>\n",
       "      <td>Sales</td>\n",
       "      <td>60000</td>\n",
       "    </tr>\n",
       "    <tr>\n",
       "      <th>5</th>\n",
       "      <td>9</td>\n",
       "      <td>Mike</td>\n",
       "      <td>Sales</td>\n",
       "      <td>70000</td>\n",
       "    </tr>\n",
       "    <tr>\n",
       "      <th>3</th>\n",
       "      <td>7</td>\n",
       "      <td>Lin</td>\n",
       "      <td>Sales</td>\n",
       "      <td>62000</td>\n",
       "    </tr>\n",
       "  </tbody>\n",
       "</table>\n",
       "</div>"
      ],
      "text/plain": [
       "   employee_id  name department  salary\n",
       "0            2   Sal      Sales   60000\n",
       "5            9  Mike      Sales   70000\n",
       "3            7   Lin      Sales   62000"
      ]
     },
     "execution_count": 10,
     "metadata": {},
     "output_type": "execute_result"
    }
   ],
   "source": [
    "employees.sample(3)"
   ]
  },
  {
   "cell_type": "markdown",
   "id": "4796d041-ab11-43d2-bd37-2f93cff385bb",
   "metadata": {},
   "source": [
    "Basic summary statistics:"
   ]
  },
  {
   "cell_type": "code",
   "execution_count": 11,
   "id": "a75554ef-4433-4bb3-9465-e2548789cd5d",
   "metadata": {},
   "outputs": [
    {
     "data": {
      "text/html": [
       "<div>\n",
       "<style scoped>\n",
       "    .dataframe tbody tr th:only-of-type {\n",
       "        vertical-align: middle;\n",
       "    }\n",
       "\n",
       "    .dataframe tbody tr th {\n",
       "        vertical-align: top;\n",
       "    }\n",
       "\n",
       "    .dataframe thead th {\n",
       "        text-align: right;\n",
       "    }\n",
       "</style>\n",
       "<table border=\"1\" class=\"dataframe\">\n",
       "  <thead>\n",
       "    <tr style=\"text-align: right;\">\n",
       "      <th></th>\n",
       "      <th>employee_id</th>\n",
       "      <th>salary</th>\n",
       "    </tr>\n",
       "  </thead>\n",
       "  <tbody>\n",
       "    <tr>\n",
       "      <th>count</th>\n",
       "      <td>6.000000</td>\n",
       "      <td>6.000000</td>\n",
       "    </tr>\n",
       "    <tr>\n",
       "      <th>mean</th>\n",
       "      <td>5.500000</td>\n",
       "      <td>72833.333333</td>\n",
       "    </tr>\n",
       "    <tr>\n",
       "      <th>std</th>\n",
       "      <td>2.880972</td>\n",
       "      <td>11321.071798</td>\n",
       "    </tr>\n",
       "    <tr>\n",
       "      <th>min</th>\n",
       "      <td>2.000000</td>\n",
       "      <td>60000.000000</td>\n",
       "    </tr>\n",
       "    <tr>\n",
       "      <th>25%</th>\n",
       "      <td>3.250000</td>\n",
       "      <td>64000.000000</td>\n",
       "    </tr>\n",
       "    <tr>\n",
       "      <th>50%</th>\n",
       "      <td>5.500000</td>\n",
       "      <td>72500.000000</td>\n",
       "    </tr>\n",
       "    <tr>\n",
       "      <th>75%</th>\n",
       "      <td>7.750000</td>\n",
       "      <td>78750.000000</td>\n",
       "    </tr>\n",
       "    <tr>\n",
       "      <th>max</th>\n",
       "      <td>9.000000</td>\n",
       "      <td>90000.000000</td>\n",
       "    </tr>\n",
       "  </tbody>\n",
       "</table>\n",
       "</div>"
      ],
      "text/plain": [
       "       employee_id        salary\n",
       "count     6.000000      6.000000\n",
       "mean      5.500000  72833.333333\n",
       "std       2.880972  11321.071798\n",
       "min       2.000000  60000.000000\n",
       "25%       3.250000  64000.000000\n",
       "50%       5.500000  72500.000000\n",
       "75%       7.750000  78750.000000\n",
       "max       9.000000  90000.000000"
      ]
     },
     "execution_count": 11,
     "metadata": {},
     "output_type": "execute_result"
    }
   ],
   "source": [
    "employees.describe()"
   ]
  },
  {
   "cell_type": "markdown",
   "id": "ddd581de-dad7-4c69-81e5-2fb9b2d1b4c4",
   "metadata": {},
   "source": [
    "Infomation summary about the data:"
   ]
  },
  {
   "cell_type": "code",
   "execution_count": 12,
   "id": "19f8fa58-8e2c-419f-8b20-21010e6efc97",
   "metadata": {},
   "outputs": [
    {
     "name": "stdout",
     "output_type": "stream",
     "text": [
      "<class 'pandas.core.frame.DataFrame'>\n",
      "RangeIndex: 6 entries, 0 to 5\n",
      "Data columns (total 4 columns):\n",
      " #   Column       Non-Null Count  Dtype \n",
      "---  ------       --------------  ----- \n",
      " 0   employee_id  6 non-null      int64 \n",
      " 1   name         6 non-null      object\n",
      " 2   department   6 non-null      object\n",
      " 3   salary       6 non-null      int64 \n",
      "dtypes: int64(2), object(2)\n",
      "memory usage: 320.0+ bytes\n"
     ]
    }
   ],
   "source": [
    "employees.info()"
   ]
  },
  {
   "cell_type": "markdown",
   "id": "8c2bc327-4b29-4e50-98f9-1e21d306d958",
   "metadata": {},
   "source": [
    "### Seleting colums"
   ]
  },
  {
   "cell_type": "code",
   "execution_count": 13,
   "id": "6cc5a5ae-f69d-4b10-9cb6-19cf3aa1d352",
   "metadata": {},
   "outputs": [
    {
     "data": {
      "text/html": [
       "<div>\n",
       "<style scoped>\n",
       "    .dataframe tbody tr th:only-of-type {\n",
       "        vertical-align: middle;\n",
       "    }\n",
       "\n",
       "    .dataframe tbody tr th {\n",
       "        vertical-align: top;\n",
       "    }\n",
       "\n",
       "    .dataframe thead th {\n",
       "        text-align: right;\n",
       "    }\n",
       "</style>\n",
       "<table border=\"1\" class=\"dataframe\">\n",
       "  <thead>\n",
       "    <tr style=\"text-align: right;\">\n",
       "      <th></th>\n",
       "      <th>name</th>\n",
       "      <th>department</th>\n",
       "    </tr>\n",
       "  </thead>\n",
       "  <tbody>\n",
       "    <tr>\n",
       "      <th>0</th>\n",
       "      <td>Sal</td>\n",
       "      <td>Sales</td>\n",
       "    </tr>\n",
       "    <tr>\n",
       "      <th>1</th>\n",
       "      <td>Yang</td>\n",
       "      <td>Marketing</td>\n",
       "    </tr>\n",
       "    <tr>\n",
       "      <th>2</th>\n",
       "      <td>Khaya</td>\n",
       "      <td>Engineering</td>\n",
       "    </tr>\n",
       "    <tr>\n",
       "      <th>3</th>\n",
       "      <td>Lin</td>\n",
       "      <td>Sales</td>\n",
       "    </tr>\n",
       "    <tr>\n",
       "      <th>4</th>\n",
       "      <td>Eve</td>\n",
       "      <td>Engineering</td>\n",
       "    </tr>\n",
       "    <tr>\n",
       "      <th>5</th>\n",
       "      <td>Mike</td>\n",
       "      <td>Sales</td>\n",
       "    </tr>\n",
       "  </tbody>\n",
       "</table>\n",
       "</div>"
      ],
      "text/plain": [
       "    name   department\n",
       "0    Sal        Sales\n",
       "1   Yang    Marketing\n",
       "2  Khaya  Engineering\n",
       "3    Lin        Sales\n",
       "4    Eve  Engineering\n",
       "5   Mike        Sales"
      ]
     },
     "execution_count": 13,
     "metadata": {},
     "output_type": "execute_result"
    }
   ],
   "source": [
    "employees[['name', 'department']]"
   ]
  },
  {
   "cell_type": "markdown",
   "id": "022ccef8-11e0-4ec4-84e0-240482fc15c4",
   "metadata": {},
   "source": [
    "### Selecting rows based on a condition"
   ]
  },
  {
   "cell_type": "code",
   "execution_count": 14,
   "id": "69dcce39-32ec-4cdc-93e7-458fe2132525",
   "metadata": {},
   "outputs": [
    {
     "data": {
      "text/html": [
       "<div>\n",
       "<style scoped>\n",
       "    .dataframe tbody tr th:only-of-type {\n",
       "        vertical-align: middle;\n",
       "    }\n",
       "\n",
       "    .dataframe tbody tr th {\n",
       "        vertical-align: top;\n",
       "    }\n",
       "\n",
       "    .dataframe thead th {\n",
       "        text-align: right;\n",
       "    }\n",
       "</style>\n",
       "<table border=\"1\" class=\"dataframe\">\n",
       "  <thead>\n",
       "    <tr style=\"text-align: right;\">\n",
       "      <th></th>\n",
       "      <th>employee_id</th>\n",
       "      <th>name</th>\n",
       "      <th>department</th>\n",
       "      <th>salary</th>\n",
       "    </tr>\n",
       "  </thead>\n",
       "  <tbody>\n",
       "    <tr>\n",
       "      <th>2</th>\n",
       "      <td>4</td>\n",
       "      <td>Khaya</td>\n",
       "      <td>Engineering</td>\n",
       "      <td>80000</td>\n",
       "    </tr>\n",
       "    <tr>\n",
       "      <th>4</th>\n",
       "      <td>8</td>\n",
       "      <td>Eve</td>\n",
       "      <td>Engineering</td>\n",
       "      <td>90000</td>\n",
       "    </tr>\n",
       "  </tbody>\n",
       "</table>\n",
       "</div>"
      ],
      "text/plain": [
       "   employee_id   name   department  salary\n",
       "2            4  Khaya  Engineering   80000\n",
       "4            8    Eve  Engineering   90000"
      ]
     },
     "execution_count": 14,
     "metadata": {},
     "output_type": "execute_result"
    }
   ],
   "source": [
    "engineering_employees = employees[employees['department'] == 'Engineering']\n",
    "engineering_employees"
   ]
  }
 ],
 "metadata": {
  "kernelspec": {
   "display_name": "Python 3 (ipykernel)",
   "language": "python",
   "name": "python3"
  },
  "language_info": {
   "codemirror_mode": {
    "name": "ipython",
    "version": 3
   },
   "file_extension": ".py",
   "mimetype": "text/x-python",
   "name": "python",
   "nbconvert_exporter": "python",
   "pygments_lexer": "ipython3",
   "version": "3.10.13"
  }
 },
 "nbformat": 4,
 "nbformat_minor": 5
}
